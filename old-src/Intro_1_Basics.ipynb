{
 "cells": [
  {
   "cell_type": "code",
   "execution_count": 2,
   "id": "f41dd87d",
   "metadata": {},
   "outputs": [],
   "source": [
    "import pandas as pd\n",
    "import numpy as np\n",
    "import matplotlib.pyplot as pt"
   ]
  },
  {
   "cell_type": "code",
   "execution_count": 5,
   "id": "a49e4404",
   "metadata": {},
   "outputs": [],
   "source": [
    "df = pd.read_csv('C:/Users/suhel/Desktop/2ndSemester/Stats and Prob/gapminder-FiveYearData.csv')"
   ]
  },
  {
   "cell_type": "code",
   "execution_count": 9,
   "id": "0531572e",
   "metadata": {},
   "outputs": [
    {
     "name": "stdout",
     "output_type": "stream",
     "text": [
      "          country  year         pop continent  lifeExp   gdpPercap\n",
      "0     Afghanistan  1952   8425333.0      Asia   28.801  779.445314\n",
      "1     Afghanistan  1957   9240934.0      Asia   30.332  820.853030\n",
      "2     Afghanistan  1962  10267083.0      Asia   31.997  853.100710\n",
      "3     Afghanistan  1967  11537966.0      Asia   34.020  836.197138\n",
      "4     Afghanistan  1972  13079460.0      Asia   36.088  739.981106\n",
      "...           ...   ...         ...       ...      ...         ...\n",
      "1699     Zimbabwe  1987   9216418.0    Africa   62.351  706.157306\n",
      "1700     Zimbabwe  1992  10704340.0    Africa   60.377  693.420786\n",
      "1701     Zimbabwe  1997  11404948.0    Africa   46.809  792.449960\n",
      "1702     Zimbabwe  2002  11926563.0    Africa   39.989  672.038623\n",
      "1703     Zimbabwe  2007  12311143.0    Africa   43.487  469.709298\n",
      "\n",
      "[1704 rows x 6 columns]\n"
     ]
    }
   ],
   "source": [
    "print(df)"
   ]
  },
  {
   "cell_type": "code",
   "execution_count": 16,
   "id": "825c0c04",
   "metadata": {},
   "outputs": [
    {
     "name": "stdout",
     "output_type": "stream",
     "text": [
      "       country  year         pop continent  lifeExp   gdpPercap\n",
      "0  Afghanistan  1952   8425333.0      Asia   28.801  779.445314\n",
      "1  Afghanistan  1957   9240934.0      Asia   30.332  820.853030\n",
      "2  Afghanistan  1962  10267083.0      Asia   31.997  853.100710\n",
      "3  Afghanistan  1967  11537966.0      Asia   34.020  836.197138\n",
      "4  Afghanistan  1972  13079460.0      Asia   36.088  739.981106\n"
     ]
    }
   ],
   "source": [
    "head_data = df.head() # first 5 data-set from table\n",
    "print(head_data)"
   ]
  },
  {
   "cell_type": "code",
   "execution_count": 17,
   "id": "27f525c9",
   "metadata": {},
   "outputs": [
    {
     "name": "stdout",
     "output_type": "stream",
     "text": [
      "       country  year         pop continent  lifeExp   gdpPercap\n",
      "1699  Zimbabwe  1987   9216418.0    Africa   62.351  706.157306\n",
      "1700  Zimbabwe  1992  10704340.0    Africa   60.377  693.420786\n",
      "1701  Zimbabwe  1997  11404948.0    Africa   46.809  792.449960\n",
      "1702  Zimbabwe  2002  11926563.0    Africa   39.989  672.038623\n",
      "1703  Zimbabwe  2007  12311143.0    Africa   43.487  469.709298\n"
     ]
    }
   ],
   "source": [
    "tail_data = df.tail() # last 5 data-set from table\n",
    "print(tail_data)"
   ]
  },
  {
   "cell_type": "code",
   "execution_count": 22,
   "id": "a362242a",
   "metadata": {},
   "outputs": [
    {
     "name": "stdout",
     "output_type": "stream",
     "text": [
      "(1704, 6)\n"
     ]
    }
   ],
   "source": [
    "rows_and_cols = df.shape # to calculate no. of rows and cols in the data-set\n",
    "print(rows_and_cols)"
   ]
  },
  {
   "cell_type": "code",
   "execution_count": 24,
   "id": "e40b048b",
   "metadata": {},
   "outputs": [
    {
     "name": "stdout",
     "output_type": "stream",
     "text": [
      "Index(['country', 'year', 'pop', 'continent', 'lifeExp', 'gdpPercap'], dtype='object')\n"
     ]
    }
   ],
   "source": [
    "print(df.columns) # to get the cols name of the table"
   ]
  },
  {
   "cell_type": "code",
   "execution_count": 26,
   "id": "6bf7a041",
   "metadata": {},
   "outputs": [
    {
     "name": "stdout",
     "output_type": "stream",
     "text": [
      "country       object\n",
      "year           int64\n",
      "pop          float64\n",
      "continent     object\n",
      "lifeExp      float64\n",
      "gdpPercap    float64\n",
      "dtype: object\n"
     ]
    }
   ],
   "source": [
    "print(df.dtypes) # to get the data-types of each cols"
   ]
  },
  {
   "cell_type": "code",
   "execution_count": 27,
   "id": "fca714db",
   "metadata": {},
   "outputs": [
    {
     "name": "stdout",
     "output_type": "stream",
     "text": [
      "<class 'pandas.core.frame.DataFrame'>\n",
      "RangeIndex: 1704 entries, 0 to 1703\n",
      "Data columns (total 6 columns):\n",
      " #   Column     Non-Null Count  Dtype  \n",
      "---  ------     --------------  -----  \n",
      " 0   country    1704 non-null   object \n",
      " 1   year       1704 non-null   int64  \n",
      " 2   pop        1704 non-null   float64\n",
      " 3   continent  1704 non-null   object \n",
      " 4   lifeExp    1704 non-null   float64\n",
      " 5   gdpPercap  1704 non-null   float64\n",
      "dtypes: float64(3), int64(1), object(2)\n",
      "memory usage: 80.0+ KB\n",
      "None\n"
     ]
    }
   ],
   "source": [
    "print(df.info()) # to know more information of the data-set"
   ]
  },
  {
   "cell_type": "markdown",
   "id": "02b0bbeb",
   "metadata": {},
   "source": [
    "## Looking at Columns, Rows, and Cells"
   ]
  },
  {
   "cell_type": "code",
   "execution_count": 30,
   "id": "cd83031a",
   "metadata": {},
   "outputs": [],
   "source": [
    "country_df = df['country'] # get the 'country' columns"
   ]
  },
  {
   "cell_type": "code",
   "execution_count": 31,
   "id": "81a1b0b6",
   "metadata": {},
   "outputs": [
    {
     "name": "stdout",
     "output_type": "stream",
     "text": [
      "0       Afghanistan\n",
      "1       Afghanistan\n",
      "2       Afghanistan\n",
      "3       Afghanistan\n",
      "4       Afghanistan\n",
      "           ...     \n",
      "1699       Zimbabwe\n",
      "1700       Zimbabwe\n",
      "1701       Zimbabwe\n",
      "1702       Zimbabwe\n",
      "1703       Zimbabwe\n",
      "Name: country, Length: 1704, dtype: object\n"
     ]
    }
   ],
   "source": [
    "print(country_df)"
   ]
  },
  {
   "cell_type": "code",
   "execution_count": 32,
   "id": "95592ccf",
   "metadata": {},
   "outputs": [
    {
     "name": "stdout",
     "output_type": "stream",
     "text": [
      "0    Afghanistan\n",
      "1    Afghanistan\n",
      "2    Afghanistan\n",
      "3    Afghanistan\n",
      "4    Afghanistan\n",
      "Name: country, dtype: object\n"
     ]
    }
   ],
   "source": [
    "print(country_df.head()) # show the first five observations"
   ]
  },
  {
   "cell_type": "code",
   "execution_count": 33,
   "id": "a6eb52f0",
   "metadata": {},
   "outputs": [
    {
     "name": "stdout",
     "output_type": "stream",
     "text": [
      "1699    Zimbabwe\n",
      "1700    Zimbabwe\n",
      "1701    Zimbabwe\n",
      "1702    Zimbabwe\n",
      "1703    Zimbabwe\n",
      "Name: country, dtype: object\n"
     ]
    }
   ],
   "source": [
    "print(country_df.tail()) #show the last 5 observations"
   ]
  },
  {
   "cell_type": "code",
   "execution_count": 37,
   "id": "b8fcdb3c",
   "metadata": {},
   "outputs": [
    {
     "name": "stdout",
     "output_type": "stream",
     "text": [
      "          country continent  year\n",
      "0     Afghanistan      Asia  1952\n",
      "1     Afghanistan      Asia  1957\n",
      "2     Afghanistan      Asia  1962\n",
      "3     Afghanistan      Asia  1967\n",
      "4     Afghanistan      Asia  1972\n",
      "...           ...       ...   ...\n",
      "1699     Zimbabwe    Africa  1987\n",
      "1700     Zimbabwe    Africa  1992\n",
      "1701     Zimbabwe    Africa  1997\n",
      "1702     Zimbabwe    Africa  2002\n",
      "1703     Zimbabwe    Africa  2007\n",
      "\n",
      "[1704 rows x 3 columns]\n"
     ]
    }
   ],
   "source": [
    "subset_df = df[['country', 'continent', 'year']] # looking at country, continent, and year\n",
    "print(subset_df)"
   ]
  },
  {
   "cell_type": "code",
   "execution_count": 40,
   "id": "3aa2b0f5",
   "metadata": {},
   "outputs": [
    {
     "name": "stdout",
     "output_type": "stream",
     "text": [
      "       country continent  year\n",
      "0  Afghanistan      Asia  1952\n",
      "1  Afghanistan      Asia  1957\n",
      "2  Afghanistan      Asia  1962\n",
      "3  Afghanistan      Asia  1967\n",
      "4  Afghanistan      Asia  1972\n"
     ]
    }
   ],
   "source": [
    "print(subset_df.head()) # fisrt 5"
   ]
  },
  {
   "cell_type": "code",
   "execution_count": 41,
   "id": "a720ad20",
   "metadata": {},
   "outputs": [
    {
     "name": "stdout",
     "output_type": "stream",
     "text": [
      "       country continent  year\n",
      "1699  Zimbabwe    Africa  1987\n",
      "1700  Zimbabwe    Africa  1992\n",
      "1701  Zimbabwe    Africa  1997\n",
      "1702  Zimbabwe    Africa  2002\n",
      "1703  Zimbabwe    Africa  2007\n"
     ]
    }
   ],
   "source": [
    "print(subset_df.tail()) # last 5"
   ]
  },
  {
   "cell_type": "markdown",
   "id": "33cb55ad",
   "metadata": {},
   "source": [
    "### Subset Rows by Index Label : loc"
   ]
  },
  {
   "cell_type": "code",
   "execution_count": 44,
   "id": "38f2a73e",
   "metadata": {},
   "outputs": [
    {
     "name": "stdout",
     "output_type": "stream",
     "text": [
      "       country  year         pop continent  lifeExp   gdpPercap\n",
      "0  Afghanistan  1952   8425333.0      Asia   28.801  779.445314\n",
      "1  Afghanistan  1957   9240934.0      Asia   30.332  820.853030\n",
      "2  Afghanistan  1962  10267083.0      Asia   31.997  853.100710\n",
      "3  Afghanistan  1967  11537966.0      Asia   34.020  836.197138\n",
      "4  Afghanistan  1972  13079460.0      Asia   36.088  739.981106\n"
     ]
    }
   ],
   "source": [
    "print(df.head()) # first five rows"
   ]
  },
  {
   "cell_type": "code",
   "execution_count": 45,
   "id": "20226d73",
   "metadata": {},
   "outputs": [
    {
     "name": "stdout",
     "output_type": "stream",
     "text": [
      "country      Afghanistan\n",
      "year                1952\n",
      "pop            8425333.0\n",
      "continent           Asia\n",
      "lifeExp           28.801\n",
      "gdpPercap     779.445314\n",
      "Name: 0, dtype: object\n"
     ]
    }
   ],
   "source": [
    "print(df.loc[0]) # get the first row"
   ]
  },
  {
   "cell_type": "code",
   "execution_count": 46,
   "id": "c33b593b",
   "metadata": {},
   "outputs": [
    {
     "name": "stdout",
     "output_type": "stream",
     "text": [
      "country      Bangladesh\n",
      "year               1967\n",
      "pop          62821884.0\n",
      "continent          Asia\n",
      "lifeExp          43.453\n",
      "gdpPercap    721.186086\n",
      "Name: 99, dtype: object\n"
     ]
    }
   ],
   "source": [
    "print(df.loc[99]) # get the 100th row"
   ]
  },
  {
   "cell_type": "code",
   "execution_count": 47,
   "id": "ecb8be41",
   "metadata": {},
   "outputs": [
    {
     "name": "stdout",
     "output_type": "stream",
     "text": [
      "       country  year         pop continent  lifeExp   gdpPercap\n",
      "1703  Zimbabwe  2007  12311143.0    Africa   43.487  469.709298\n"
     ]
    }
   ],
   "source": [
    "print(df.tail(n=1)) # get the last row"
   ]
  },
  {
   "cell_type": "code",
   "execution_count": 49,
   "id": "d60c9c78",
   "metadata": {},
   "outputs": [
    {
     "name": "stdout",
     "output_type": "stream",
     "text": [
      "         country  year         pop continent  lifeExp    gdpPercap\n",
      "0    Afghanistan  1952   8425333.0      Asia   28.801   779.445314\n",
      "99    Bangladesh  1967  62821884.0      Asia   43.453   721.186086\n",
      "999     Mongolia  1967   1149500.0      Asia   51.253  1226.041130\n"
     ]
    }
   ],
   "source": [
    "print(df.loc[[0, 99, 999]]) # get the 1st, 100th, 1000th rows"
   ]
  },
  {
   "cell_type": "markdown",
   "id": "a1701c92",
   "metadata": {},
   "source": [
    "### Subset rows by Row Number: iloc"
   ]
  },
  {
   "cell_type": "code",
   "execution_count": 50,
   "id": "c440e807",
   "metadata": {},
   "outputs": [
    {
     "name": "stdout",
     "output_type": "stream",
     "text": [
      "country      Afghanistan\n",
      "year                1957\n",
      "pop            9240934.0\n",
      "continent           Asia\n",
      "lifeExp           30.332\n",
      "gdpPercap      820.85303\n",
      "Name: 1, dtype: object\n"
     ]
    }
   ],
   "source": [
    "print(df.iloc[1]) # get the 2nd row"
   ]
  },
  {
   "cell_type": "code",
   "execution_count": 51,
   "id": "367be6fd",
   "metadata": {},
   "outputs": [
    {
     "name": "stdout",
     "output_type": "stream",
     "text": [
      "country      Bangladesh\n",
      "year               1967\n",
      "pop          62821884.0\n",
      "continent          Asia\n",
      "lifeExp          43.453\n",
      "gdpPercap    721.186086\n",
      "Name: 99, dtype: object\n"
     ]
    }
   ],
   "source": [
    "print(df.iloc[99]) # get the 100th row"
   ]
  },
  {
   "cell_type": "code",
   "execution_count": 53,
   "id": "276f9c3d",
   "metadata": {},
   "outputs": [
    {
     "name": "stdout",
     "output_type": "stream",
     "text": [
      "country        Zimbabwe\n",
      "year               2007\n",
      "pop          12311143.0\n",
      "continent        Africa\n",
      "lifeExp          43.487\n",
      "gdpPercap    469.709298\n",
      "Name: 1703, dtype: object\n"
     ]
    }
   ],
   "source": [
    "print(df.iloc[-1]) # using -1 to get the last row. NOTE: -1 is not allowed in loc[..]"
   ]
  },
  {
   "cell_type": "code",
   "execution_count": 54,
   "id": "9782ebfb",
   "metadata": {},
   "outputs": [
    {
     "name": "stdout",
     "output_type": "stream",
     "text": [
      "         country  year         pop continent  lifeExp    gdpPercap\n",
      "0    Afghanistan  1952   8425333.0      Asia   28.801   779.445314\n",
      "99    Bangladesh  1967  62821884.0      Asia   43.453   721.186086\n",
      "999     Mongolia  1967   1149500.0      Asia   51.253  1226.041130\n"
     ]
    }
   ],
   "source": [
    "print(df.iloc[[0, 99, 999]]) # get the 1st, 100th, and the 1000th rows"
   ]
  },
  {
   "cell_type": "markdown",
   "id": "f7123174",
   "metadata": {},
   "source": [
    "# Subsetting Columns"
   ]
  },
  {
   "cell_type": "code",
   "execution_count": 56,
   "id": "487f880a",
   "metadata": {},
   "outputs": [
    {
     "name": "stdout",
     "output_type": "stream",
     "text": [
      "      year         pop\n",
      "0     1952   8425333.0\n",
      "1     1957   9240934.0\n",
      "2     1962  10267083.0\n",
      "3     1967  11537966.0\n",
      "4     1972  13079460.0\n",
      "...    ...         ...\n",
      "1699  1987   9216418.0\n",
      "1700  1992  10704340.0\n",
      "1701  1997  11404948.0\n",
      "1702  2002  11926563.0\n",
      "1703  2007  12311143.0\n",
      "\n",
      "[1704 rows x 2 columns]\n"
     ]
    }
   ],
   "source": [
    "subset_col = df.loc[:, ['year', 'pop']] # slicing syntax for cols\n",
    "print(subset_col)"
   ]
  },
  {
   "cell_type": "code",
   "execution_count": 58,
   "id": "8fb9bbfe",
   "metadata": {},
   "outputs": [
    {
     "name": "stdout",
     "output_type": "stream",
     "text": [
      "             pop  lifeExp   gdpPercap\n",
      "0      8425333.0   28.801  779.445314\n",
      "1      9240934.0   30.332  820.853030\n",
      "2     10267083.0   31.997  853.100710\n",
      "3     11537966.0   34.020  836.197138\n",
      "4     13079460.0   36.088  739.981106\n",
      "...          ...      ...         ...\n",
      "1699   9216418.0   62.351  706.157306\n",
      "1700  10704340.0   60.377  693.420786\n",
      "1701  11404948.0   46.809  792.449960\n",
      "1702  11926563.0   39.989  672.038623\n",
      "1703  12311143.0   43.487  469.709298\n",
      "\n",
      "[1704 rows x 3 columns]\n"
     ]
    }
   ],
   "source": [
    "subset_icol = df.iloc[:, [2, 4, -1]] # subset columns with iloc; allows integers; -1 select last col\n",
    "print(subset_icol)"
   ]
  },
  {
   "cell_type": "markdown",
   "id": "08a4718d",
   "metadata": {},
   "source": [
    "## Subsetting Columns by Range"
   ]
  },
  {
   "cell_type": "code",
   "execution_count": 59,
   "id": "5e27d532",
   "metadata": {},
   "outputs": [
    {
     "name": "stdout",
     "output_type": "stream",
     "text": [
      "[0, 1, 2, 3, 4]\n"
     ]
    }
   ],
   "source": [
    "small_range = list(range(5)) # create a range of integers from 0 to 4\n",
    "print(small_range)"
   ]
  },
  {
   "cell_type": "code",
   "execution_count": 62,
   "id": "12b56cfa",
   "metadata": {},
   "outputs": [
    {
     "name": "stdout",
     "output_type": "stream",
     "text": [
      "          country  year         pop continent  lifeExp\n",
      "0     Afghanistan  1952   8425333.0      Asia   28.801\n",
      "1     Afghanistan  1957   9240934.0      Asia   30.332\n",
      "2     Afghanistan  1962  10267083.0      Asia   31.997\n",
      "3     Afghanistan  1967  11537966.0      Asia   34.020\n",
      "4     Afghanistan  1972  13079460.0      Asia   36.088\n",
      "...           ...   ...         ...       ...      ...\n",
      "1699     Zimbabwe  1987   9216418.0    Africa   62.351\n",
      "1700     Zimbabwe  1992  10704340.0    Africa   60.377\n",
      "1701     Zimbabwe  1997  11404948.0    Africa   46.809\n",
      "1702     Zimbabwe  2002  11926563.0    Africa   39.989\n",
      "1703     Zimbabwe  2007  12311143.0    Africa   43.487\n",
      "\n",
      "[1704 rows x 5 columns]\n"
     ]
    }
   ],
   "source": [
    "subset_index = df.iloc[:, small_range] # subset the data-frame with the range \n",
    "print(subset_index)"
   ]
  },
  {
   "cell_type": "markdown",
   "id": "7da773b1",
   "metadata": {},
   "source": [
    "## Subsetting Rows and Columns"
   ]
  },
  {
   "cell_type": "code",
   "execution_count": 63,
   "id": "136b715e",
   "metadata": {},
   "outputs": [
    {
     "name": "stdout",
     "output_type": "stream",
     "text": [
      "Angola\n"
     ]
    }
   ],
   "source": [
    "print(df.loc[42, 'country']) # using loc"
   ]
  },
  {
   "cell_type": "code",
   "execution_count": 64,
   "id": "5de9ba14",
   "metadata": {},
   "outputs": [
    {
     "name": "stdout",
     "output_type": "stream",
     "text": [
      "Angola\n"
     ]
    }
   ],
   "source": [
    "print(df.iloc[42, 0]) # using iloc"
   ]
  },
  {
   "cell_type": "markdown",
   "id": "81fc8e59",
   "metadata": {},
   "source": [
    "## Subsetting the Multiple Rows and Colums"
   ]
  },
  {
   "cell_type": "code",
   "execution_count": 65,
   "id": "c46139c6",
   "metadata": {},
   "outputs": [
    {
     "name": "stdout",
     "output_type": "stream",
     "text": [
      "         country continent    gdpPercap\n",
      "0    Afghanistan      Asia   779.445314\n",
      "99    Bangladesh      Asia   721.186086\n",
      "999     Mongolia      Asia  1226.041130\n"
     ]
    }
   ],
   "source": [
    "print(df.iloc[[0, 99, 999], [0, 3, 5]]) # get the 1st, 100th, 100th rows from the 1st, 4th, and 6th cols"
   ]
  },
  {
   "cell_type": "code",
   "execution_count": 68,
   "id": "4ba1d31d",
   "metadata": {
    "scrolled": true
   },
   "outputs": [
    {
     "name": "stdout",
     "output_type": "stream",
     "text": [
      "         country continent    gdpPercap\n",
      "0    Afghanistan      Asia   779.445314\n",
      "99    Bangladesh      Asia   721.186086\n",
      "999     Mongolia      Asia  1226.041130\n"
     ]
    }
   ],
   "source": [
    "print(df.loc[[0, 99, 999], ['country', 'continent', 'gdpPercap']]) # using cols name directly-- readabilty increases"
   ]
  },
  {
   "cell_type": "code",
   "execution_count": 69,
   "id": "691cabf4",
   "metadata": {},
   "outputs": [
    {
     "name": "stdout",
     "output_type": "stream",
     "text": [
      "        country continent    gdpPercap\n",
      "10  Afghanistan      Asia   726.734055\n",
      "11  Afghanistan      Asia   974.580338\n",
      "12      Albania    Europe  1601.056136\n",
      "13      Albania    Europe  1942.284244\n"
     ]
    }
   ],
   "source": [
    "print(df.loc[10:13, ['country', 'continent', 'gdpPercap']]) # from 10 to 13 rows"
   ]
  },
  {
   "cell_type": "code",
   "execution_count": 70,
   "id": "ae9e9eb9",
   "metadata": {},
   "outputs": [
    {
     "name": "stdout",
     "output_type": "stream",
     "text": [
      "       country  year         pop continent  lifeExp   gdpPercap\n",
      "0  Afghanistan  1952   8425333.0      Asia   28.801  779.445314\n",
      "1  Afghanistan  1957   9240934.0      Asia   30.332  820.853030\n",
      "2  Afghanistan  1962  10267083.0      Asia   31.997  853.100710\n",
      "3  Afghanistan  1967  11537966.0      Asia   34.020  836.197138\n",
      "4  Afghanistan  1972  13079460.0      Asia   36.088  739.981106\n",
      "5  Afghanistan  1977  14880372.0      Asia   38.438  786.113360\n",
      "6  Afghanistan  1982  12881816.0      Asia   39.854  978.011439\n",
      "7  Afghanistan  1987  13867957.0      Asia   40.822  852.395945\n",
      "8  Afghanistan  1992  16317921.0      Asia   41.674  649.341395\n",
      "9  Afghanistan  1997  22227415.0      Asia   41.763  635.341351\n"
     ]
    }
   ],
   "source": [
    "print(df.head(n=10)) # printing first 10 rows"
   ]
  },
  {
   "cell_type": "code",
   "execution_count": null,
   "id": "5a2756f6",
   "metadata": {},
   "outputs": [],
   "source": []
  }
 ],
 "metadata": {
  "kernelspec": {
   "display_name": "Python 3 (ipykernel)",
   "language": "python",
   "name": "python3"
  },
  "language_info": {
   "codemirror_mode": {
    "name": "ipython",
    "version": 3
   },
   "file_extension": ".py",
   "mimetype": "text/x-python",
   "name": "python",
   "nbconvert_exporter": "python",
   "pygments_lexer": "ipython3",
   "version": "3.11.5"
  }
 },
 "nbformat": 4,
 "nbformat_minor": 5
}
