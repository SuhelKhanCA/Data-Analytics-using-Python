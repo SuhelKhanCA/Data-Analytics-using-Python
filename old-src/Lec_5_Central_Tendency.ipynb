{
 "cells": [
  {
   "cell_type": "code",
   "execution_count": 1,
   "id": "2a516540",
   "metadata": {},
   "outputs": [],
   "source": [
    "# Importing required package\n",
    "import pandas as pd\n",
    "import numpy as np"
   ]
  },
  {
   "cell_type": "code",
   "execution_count": 2,
   "id": "5c85205e",
   "metadata": {},
   "outputs": [
    {
     "name": "stdout",
     "output_type": "stream",
     "text": [
      "    S.No.  MTE (25)  Mini Project (25)  Total (50)  ETE (50)  Total\n",
      "0       1      5.00                 20       25.00      12.0  37.00\n",
      "1       2     11.05                 20       31.05      26.0  57.05\n",
      "2       3      8.10                 20       28.10      14.0  42.10\n",
      "3       4      6.00                 10       16.00      13.0  29.00\n",
      "4       5     11.35                 20       31.35      17.0  48.35\n",
      "..    ...       ...                ...         ...       ...    ...\n",
      "74     75     12.05                 10       22.05      20.0  42.05\n",
      "75     76     12.25                 10       22.25      28.0  50.25\n",
      "76     77      1.75                 10       11.75       NaN   0.00\n",
      "77     78      3.00                 10       13.00       NaN   0.00\n",
      "78     79      5.80                 10       15.80      12.0  27.80\n",
      "\n",
      "[79 rows x 6 columns]\n"
     ]
    }
   ],
   "source": [
    "path = \"C:/Users/suhel/Desktop/2ndSemester/Stats and Prob/IBM-313 Marks.xlsx\"\n",
    "table = pd.read_excel(path)\n",
    "print(table)"
   ]
  },
  {
   "cell_type": "code",
   "execution_count": 4,
   "id": "b9550010",
   "metadata": {},
   "outputs": [
    {
     "data": {
      "text/plain": [
       "46.90632911392405"
      ]
     },
     "execution_count": 4,
     "metadata": {},
     "output_type": "execute_result"
    }
   ],
   "source": [
    "x = table['Total']\n",
    "np.mean(x)"
   ]
  },
  {
   "cell_type": "code",
   "execution_count": 5,
   "id": "9d3c7bce",
   "metadata": {},
   "outputs": [
    {
     "data": {
      "text/plain": [
       "45.0"
      ]
     },
     "execution_count": 5,
     "metadata": {},
     "output_type": "execute_result"
    }
   ],
   "source": [
    "np.median(x)"
   ]
  },
  {
   "cell_type": "markdown",
   "id": "94776842",
   "metadata": {},
   "source": [
    "# Mode"
   ]
  },
  {
   "cell_type": "code",
   "execution_count": 6,
   "id": "3d619235",
   "metadata": {},
   "outputs": [],
   "source": [
    "import scipy\n",
    "from scipy import stats"
   ]
  },
  {
   "cell_type": "code",
   "execution_count": 7,
   "id": "19899ad2",
   "metadata": {},
   "outputs": [
    {
     "data": {
      "text/plain": [
       "ModeResult(mode=0.0, count=2)"
      ]
     },
     "execution_count": 7,
     "metadata": {},
     "output_type": "execute_result"
    }
   ],
   "source": [
    "stats.mode(x)"
   ]
  },
  {
   "cell_type": "markdown",
   "id": "49a5f35d",
   "metadata": {},
   "source": [
    "# Percentile"
   ]
  },
  {
   "cell_type": "code",
   "execution_count": 9,
   "id": "3e1067d2",
   "metadata": {},
   "outputs": [
    {
     "name": "stdout",
     "output_type": "stream",
     "text": [
      "3.0\n"
     ]
    }
   ],
   "source": [
    "a = np.array([1, 2, 3, 4, 5])\n",
    "p = np.percentile(a, 50) # 50th percentile\n",
    "print(p)"
   ]
  },
  {
   "cell_type": "markdown",
   "id": "e8634ded",
   "metadata": {},
   "source": [
    "# Examples of loops"
   ]
  },
  {
   "cell_type": "code",
   "execution_count": 10,
   "id": "3837cc11",
   "metadata": {},
   "outputs": [
    {
     "name": "stdout",
     "output_type": "stream",
     "text": [
      "['Ram', 65, 2.5]\n"
     ]
    }
   ],
   "source": [
    "k = ['Ram', 65, 2.5]\n",
    "print(k)"
   ]
  },
  {
   "cell_type": "code",
   "execution_count": 11,
   "id": "85499605",
   "metadata": {},
   "outputs": [
    {
     "name": "stdout",
     "output_type": "stream",
     "text": [
      "Ram\n",
      "65\n",
      "2.5\n"
     ]
    }
   ],
   "source": [
    "for i in k:\n",
    "    print(i)"
   ]
  },
  {
   "cell_type": "code",
   "execution_count": 12,
   "id": "3beb6774",
   "metadata": {},
   "outputs": [
    {
     "name": "stdout",
     "output_type": "stream",
     "text": [
      "10\n",
      "12\n",
      "14\n",
      "16\n",
      "18\n"
     ]
    }
   ],
   "source": [
    "for i in range(10, 20, 2): print(i)"
   ]
  },
  {
   "cell_type": "code",
   "execution_count": 13,
   "id": "1838e256",
   "metadata": {},
   "outputs": [
    {
     "name": "stdout",
     "output_type": "stream",
     "text": [
      "10, 12, 14, 16, 18, "
     ]
    }
   ],
   "source": [
    "for i in range(10, 20, 2): print(i, end=\", \")"
   ]
  },
  {
   "cell_type": "markdown",
   "id": "86515362",
   "metadata": {},
   "source": [
    "# Functions in python"
   ]
  },
  {
   "cell_type": "code",
   "execution_count": 14,
   "id": "40d7c675",
   "metadata": {},
   "outputs": [
    {
     "name": "stdout",
     "output_type": "stream",
     "text": [
      "Hi\n",
      "Good evening!\n"
     ]
    }
   ],
   "source": [
    "def greet():\n",
    "    print(\"Hi\")\n",
    "    print(\"Good evening!\")\n",
    "greet()"
   ]
  },
  {
   "cell_type": "code",
   "execution_count": 18,
   "id": "559f1158",
   "metadata": {},
   "outputs": [
    {
     "name": "stdout",
     "output_type": "stream",
     "text": [
      "10\n"
     ]
    }
   ],
   "source": [
    "def add(a,b):\n",
    "    c = a + b\n",
    "    print(c)\n",
    "add(6,4)"
   ]
  },
  {
   "cell_type": "markdown",
   "id": "26663e1d",
   "metadata": {},
   "source": [
    "# Finding min and max value"
   ]
  },
  {
   "cell_type": "code",
   "execution_count": 19,
   "id": "6f6257dc",
   "metadata": {},
   "outputs": [
    {
     "data": {
      "text/plain": [
       "(-74, 65)"
      ]
     },
     "execution_count": 19,
     "metadata": {},
     "output_type": "execute_result"
    }
   ],
   "source": [
    "data = [1, 32, 5, 45, 65, 21, -74, 54]\n",
    "min(data), max(data)"
   ]
  },
  {
   "cell_type": "code",
   "execution_count": 20,
   "id": "ab47a92d",
   "metadata": {},
   "outputs": [],
   "source": [
    "def min_and_max(d):\n",
    "    min_val = min(d)\n",
    "    max_val = max(d)\n",
    "    return (min_val, max_val)"
   ]
  },
  {
   "cell_type": "code",
   "execution_count": 21,
   "id": "f99e0be4",
   "metadata": {},
   "outputs": [
    {
     "data": {
      "text/plain": [
       "(-74, 65)"
      ]
     },
     "execution_count": 21,
     "metadata": {},
     "output_type": "execute_result"
    }
   ],
   "source": [
    "min_and_max(data)"
   ]
  },
  {
   "cell_type": "markdown",
   "id": "51d0c756",
   "metadata": {},
   "source": [
    "### Calculating range"
   ]
  },
  {
   "cell_type": "code",
   "execution_count": 26,
   "id": "fa01a60b",
   "metadata": {},
   "outputs": [],
   "source": [
    "def rangefun(d):\n",
    "    min_val = min(d)\n",
    "    max_val = max(d)\n",
    "    return max_val - min_val"
   ]
  },
  {
   "cell_type": "code",
   "execution_count": 27,
   "id": "e73cef52",
   "metadata": {},
   "outputs": [
    {
     "data": {
      "text/plain": [
       "139"
      ]
     },
     "execution_count": 27,
     "metadata": {},
     "output_type": "execute_result"
    }
   ],
   "source": [
    "rangefun(data)"
   ]
  },
  {
   "cell_type": "markdown",
   "id": "b057815c",
   "metadata": {},
   "source": [
    "## Quartile"
   ]
  },
  {
   "cell_type": "code",
   "execution_count": 33,
   "id": "5a0adefd",
   "metadata": {},
   "outputs": [],
   "source": [
    "a = np.array([1, 2, 34,5 ,6])"
   ]
  },
  {
   "cell_type": "code",
   "execution_count": 34,
   "id": "5cbe8325",
   "metadata": {},
   "outputs": [
    {
     "name": "stdout",
     "output_type": "stream",
     "text": [
      "2.0\n"
     ]
    }
   ],
   "source": [
    "q1 = np.percentile(a, 25) # return 25th percentile\n",
    "print(q1)"
   ]
  },
  {
   "cell_type": "code",
   "execution_count": 35,
   "id": "9d120185",
   "metadata": {},
   "outputs": [
    {
     "name": "stdout",
     "output_type": "stream",
     "text": [
      "5.0\n"
     ]
    }
   ],
   "source": [
    "q2 = np.percentile(a, 50) # return 50th percentile\n",
    "print(q2)"
   ]
  },
  {
   "cell_type": "code",
   "execution_count": 36,
   "id": "0e81b9f2",
   "metadata": {},
   "outputs": [
    {
     "name": "stdout",
     "output_type": "stream",
     "text": [
      "6.0\n"
     ]
    }
   ],
   "source": [
    "q3 = np.percentile(a, 75) # return 50th percentile\n",
    "print(q3)"
   ]
  },
  {
   "cell_type": "markdown",
   "id": "d3a4a969",
   "metadata": {},
   "source": [
    "# Inter-quartile-range"
   ]
  },
  {
   "cell_type": "code",
   "execution_count": 37,
   "id": "92a1eed6",
   "metadata": {},
   "outputs": [],
   "source": [
    "itr_qtr_rang = q3 - q1"
   ]
  },
  {
   "cell_type": "code",
   "execution_count": 38,
   "id": "f05ab41d",
   "metadata": {},
   "outputs": [
    {
     "name": "stdout",
     "output_type": "stream",
     "text": [
      "4.0\n"
     ]
    }
   ],
   "source": [
    "print(itr_qtr_rang)"
   ]
  },
  {
   "cell_type": "markdown",
   "id": "fa5a801d",
   "metadata": {},
   "source": [
    "# Variance"
   ]
  },
  {
   "cell_type": "code",
   "execution_count": 39,
   "id": "693ba1ac",
   "metadata": {},
   "outputs": [
    {
     "data": {
      "text/plain": [
       "262.78147892965876"
      ]
     },
     "execution_count": 39,
     "metadata": {},
     "output_type": "execute_result"
    }
   ],
   "source": [
    "np.var(x)"
   ]
  },
  {
   "cell_type": "markdown",
   "id": "97966406",
   "metadata": {},
   "source": [
    "## Population standard deviation"
   ]
  },
  {
   "cell_type": "code",
   "execution_count": 42,
   "id": "62a76431",
   "metadata": {},
   "outputs": [
    {
     "data": {
      "text/plain": [
       "16.210536046955966"
      ]
     },
     "execution_count": 42,
     "metadata": {},
     "output_type": "execute_result"
    }
   ],
   "source": [
    "import statistics as stats\n",
    "stats.pstdev(x)"
   ]
  },
  {
   "cell_type": "markdown",
   "id": "86112424",
   "metadata": {},
   "source": [
    "# Sample Standard deviation"
   ]
  },
  {
   "cell_type": "code",
   "execution_count": 44,
   "id": "a2561d89",
   "metadata": {},
   "outputs": [
    {
     "data": {
      "text/plain": [
       "16.31411880088133"
      ]
     },
     "execution_count": 44,
     "metadata": {},
     "output_type": "execute_result"
    }
   ],
   "source": [
    "stats.stdev(x)"
   ]
  },
  {
   "cell_type": "code",
   "execution_count": 45,
   "id": "8a311523",
   "metadata": {},
   "outputs": [
    {
     "data": {
      "text/plain": [
       "16.210536046955966"
      ]
     },
     "execution_count": 45,
     "metadata": {},
     "output_type": "execute_result"
    }
   ],
   "source": [
    "np.std(x)"
   ]
  },
  {
   "cell_type": "markdown",
   "id": "91be220a",
   "metadata": {},
   "source": [
    "# Skewness"
   ]
  },
  {
   "cell_type": "code",
   "execution_count": 46,
   "id": "b9d3874f",
   "metadata": {},
   "outputs": [],
   "source": [
    "from scipy.stats import skew"
   ]
  },
  {
   "cell_type": "code",
   "execution_count": 47,
   "id": "7e06ce76",
   "metadata": {},
   "outputs": [
    {
     "data": {
      "text/plain": [
       "0.10226407464884266"
      ]
     },
     "execution_count": 47,
     "metadata": {},
     "output_type": "execute_result"
    }
   ],
   "source": [
    "skew(x)"
   ]
  },
  {
   "cell_type": "markdown",
   "id": "be9804f7",
   "metadata": {},
   "source": [
    "## Box plot"
   ]
  },
  {
   "cell_type": "code",
   "execution_count": 48,
   "id": "dc2e83e2",
   "metadata": {},
   "outputs": [],
   "source": [
    "from matplotlib import pyplot as plt"
   ]
  },
  {
   "cell_type": "code",
   "execution_count": 50,
   "id": "5782c962",
   "metadata": {},
   "outputs": [
    {
     "data": {
      "image/png": "[encoded data removed]",
      "text/plain": [
       "<Figure size 640x480 with 1 Axes>"
      ]
     },
     "metadata": {},
     "output_type": "display_data"
    }
   ],
   "source": [
    "plt.boxplot(x, sym='*')\n",
    "plt.show()"
   ]
  },
  {
   "cell_type": "code",
   "execution_count": null,
   "id": "c20795dc",
   "metadata": {},
   "outputs": [],
   "source": []
  }
 ],
 "metadata": {
  "kernelspec": {
   "display_name": "Python 3 (ipykernel)",
   "language": "python",
   "name": "python3"
  },
  "language_info": {
   "codemirror_mode": {
    "name": "ipython",
    "version": 3
   },
   "file_extension": ".py",
   "mimetype": "text/x-python",
   "name": "python",
   "nbconvert_exporter": "python",
   "pygments_lexer": "ipython3",
   "version": "3.11.5"
  }
 },
 "nbformat": 4,
 "nbformat_minor": 5
}
