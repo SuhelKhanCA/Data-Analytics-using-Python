{
 "cells": [
  {
   "cell_type": "code",
   "execution_count": 1,
   "id": "f5cc9ce7-48f3-4ca5-86e8-2cf8e6902923",
   "metadata": {},
   "outputs": [],
   "source": [
    "import numpy as np"
   ]
  },
  {
   "cell_type": "code",
   "execution_count": 2,
   "id": "63e5a4b8-15d8-4f19-b090-172d001eb6fd",
   "metadata": {},
   "outputs": [],
   "source": [
    "a = np.random.randint(1, 100, (3, 4))"
   ]
  },
  {
   "cell_type": "code",
   "execution_count": 3,
   "id": "795e8fa4-a3e3-4076-a997-66507fb80f1b",
   "metadata": {},
   "outputs": [
    {
     "data": {
      "text/plain": [
       "array([[99, 83, 36, 54],\n",
       "       [10, 76, 69, 43],\n",
       "       [95, 67,  2, 47]], dtype=int32)"
      ]
     },
     "execution_count": 3,
     "metadata": {},
     "output_type": "execute_result"
    }
   ],
   "source": [
    "a"
   ]
  },
  {
   "cell_type": "code",
   "execution_count": 4,
   "id": "4df3f10e-58ee-486e-9abd-8e915a8d937c",
   "metadata": {},
   "outputs": [
    {
     "data": {
      "text/plain": [
       "np.int64(681)"
      ]
     },
     "execution_count": 4,
     "metadata": {},
     "output_type": "execute_result"
    }
   ],
   "source": [
    "a.sum()"
   ]
  },
  {
   "cell_type": "code",
   "execution_count": 5,
   "id": "d35b64ca-ce7e-495c-bfee-6bf26349a969",
   "metadata": {},
   "outputs": [
    {
     "data": {
      "text/plain": [
       "np.int32(2)"
      ]
     },
     "execution_count": 5,
     "metadata": {},
     "output_type": "execute_result"
    }
   ],
   "source": [
    "a.min()"
   ]
  },
  {
   "cell_type": "code",
   "execution_count": 6,
   "id": "39c9bb99-1bab-48ff-8520-8f755d0246ec",
   "metadata": {},
   "outputs": [
    {
     "data": {
      "text/plain": [
       "np.int32(99)"
      ]
     },
     "execution_count": 6,
     "metadata": {},
     "output_type": "execute_result"
    }
   ],
   "source": [
    "a.max()"
   ]
  },
  {
   "cell_type": "markdown",
   "id": "56ccc509-d25e-4083-8d0b-7088be02d45d",
   "metadata": {},
   "source": [
    "# Operations by:\n",
    "## axis=0 --> column\n",
    "## axis = 1 --> row"
   ]
  },
  {
   "cell_type": "code",
   "execution_count": 12,
   "id": "b1caf105-e953-405e-80f7-9b325ed46b47",
   "metadata": {},
   "outputs": [
    {
     "data": {
      "text/plain": [
       "array([204, 226, 107, 144])"
      ]
     },
     "execution_count": 12,
     "metadata": {},
     "output_type": "execute_result"
    }
   ],
   "source": [
    "a.sum(axis=0) # Sum by columnwise"
   ]
  },
  {
   "cell_type": "code",
   "execution_count": 13,
   "id": "bb1ece7c-cdd5-4fe0-a4a8-77ccc6a91ff2",
   "metadata": {},
   "outputs": [
    {
     "data": {
      "text/plain": [
       "array([272, 198, 211])"
      ]
     },
     "execution_count": 13,
     "metadata": {},
     "output_type": "execute_result"
    }
   ],
   "source": [
    "a.sum(axis=1) # Sum by row-wise"
   ]
  },
  {
   "cell_type": "code",
   "execution_count": 14,
   "id": "d309df4d-20f4-419f-832f-6af602b4a143",
   "metadata": {},
   "outputs": [
    {
     "data": {
      "text/plain": [
       "array([10, 67,  2, 43], dtype=int32)"
      ]
     },
     "execution_count": 14,
     "metadata": {},
     "output_type": "execute_result"
    }
   ],
   "source": [
    "a.min(axis=0)"
   ]
  },
  {
   "cell_type": "code",
   "execution_count": 15,
   "id": "0f059db5-05c0-4b5b-8651-593e3e53edfc",
   "metadata": {},
   "outputs": [
    {
     "data": {
      "text/plain": [
       "array([36, 10,  2], dtype=int32)"
      ]
     },
     "execution_count": 15,
     "metadata": {},
     "output_type": "execute_result"
    }
   ],
   "source": [
    "a.min(axis=1)"
   ]
  },
  {
   "cell_type": "code",
   "execution_count": 11,
   "id": "d5055de2-b474-450e-9eab-bee35b1d6d15",
   "metadata": {},
   "outputs": [
    {
     "data": {
      "text/plain": [
       "array([99, 83, 69, 54], dtype=int32)"
      ]
     },
     "execution_count": 11,
     "metadata": {},
     "output_type": "execute_result"
    }
   ],
   "source": [
    "a.max(axis=0)"
   ]
  },
  {
   "cell_type": "code",
   "execution_count": 16,
   "id": "bd10dd27-6278-4156-9c04-76c78df99f3e",
   "metadata": {},
   "outputs": [
    {
     "data": {
      "text/plain": [
       "array([99, 76, 95], dtype=int32)"
      ]
     },
     "execution_count": 16,
     "metadata": {},
     "output_type": "execute_result"
    }
   ],
   "source": [
    "a.max(axis=1)"
   ]
  },
  {
   "cell_type": "code",
   "execution_count": null,
   "id": "dd7da15e-a709-4b20-8d13-4883fd357238",
   "metadata": {},
   "outputs": [],
   "source": []
  }
 ],
 "metadata": {
  "kernelspec": {
   "display_name": "Python 3 (ipykernel)",
   "language": "python",
   "name": "python3"
  },
  "language_info": {
   "codemirror_mode": {
    "name": "ipython",
    "version": 3
   },
   "file_extension": ".py",
   "mimetype": "text/x-python",
   "name": "python",
   "nbconvert_exporter": "python",
   "pygments_lexer": "ipython3",
   "version": "3.12.4"
  }
 },
 "nbformat": 4,
 "nbformat_minor": 5
}
