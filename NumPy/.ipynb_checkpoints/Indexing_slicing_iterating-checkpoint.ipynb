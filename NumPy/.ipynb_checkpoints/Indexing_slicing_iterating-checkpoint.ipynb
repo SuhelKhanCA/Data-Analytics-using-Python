{
 "cells": [
  {
   "cell_type": "markdown",
   "id": "d69ecfdb-ee21-4f85-8825-0426c9f4e57e",
   "metadata": {},
   "source": [
    "# Indexing, slicing and iterating"
   ]
  },
  {
   "cell_type": "code",
   "execution_count": 1,
   "id": "b414aae8-cf6f-4af0-a1cf-4eb458f30bd7",
   "metadata": {},
   "outputs": [],
   "source": [
    "import numpy as np"
   ]
  },
  {
   "cell_type": "code",
   "execution_count": 7,
   "id": "1f9a9023-fd3a-4bb4-a6cb-6d0dffd31e24",
   "metadata": {},
   "outputs": [
    {
     "data": {
      "text/plain": [
       "array([ 0,  1,  4,  9, 16, 25, 36, 49, 64, 81])"
      ]
     },
     "execution_count": 7,
     "metadata": {},
     "output_type": "execute_result"
    }
   ],
   "source": [
    "a = np.arange(10)**2\n",
    "a"
   ]
  },
  {
   "cell_type": "code",
   "execution_count": 8,
   "id": "0b8c574c-58e9-4df8-8175-3453a1397e92",
   "metadata": {},
   "outputs": [
    {
     "data": {
      "text/plain": [
       "array([     0,      1,     64,    729,   4096,  15625,  46656, 117649,\n",
       "       262144, 531441])"
      ]
     },
     "execution_count": 8,
     "metadata": {},
     "output_type": "execute_result"
    }
   ],
   "source": [
    "a**3"
   ]
  },
  {
   "cell_type": "code",
   "execution_count": 9,
   "id": "19cfa012-e40e-49e1-957b-5c897bde63f7",
   "metadata": {},
   "outputs": [
    {
     "name": "stdout",
     "output_type": "stream",
     "text": [
      "4\n"
     ]
    }
   ],
   "source": [
    "print(a[2])"
   ]
  },
  {
   "cell_type": "code",
   "execution_count": 10,
   "id": "0e256ec1-f52f-4598-899b-644176cfa208",
   "metadata": {},
   "outputs": [
    {
     "name": "stdout",
     "output_type": "stream",
     "text": [
      "[ 4  9 16]\n"
     ]
    }
   ],
   "source": [
    "print(a[2:5])"
   ]
  },
  {
   "cell_type": "code",
   "execution_count": 11,
   "id": "6d964d03-7dc6-4ba9-84f5-482d75c84715",
   "metadata": {},
   "outputs": [
    {
     "name": "stdout",
     "output_type": "stream",
     "text": [
      "[1000    1 1000    9   16   25   36   49   64   81]\n"
     ]
    }
   ],
   "source": [
    "a[0:3:2] = 1000\n",
    "print(a)"
   ]
  },
  {
   "cell_type": "code",
   "execution_count": 12,
   "id": "bc7bfb8c-91d2-4a08-9a2c-687f80a378b1",
   "metadata": {},
   "outputs": [
    {
     "data": {
      "text/plain": [
       "array([  81,   64,   49,   36,   25,   16,    9, 1000,    1, 1000])"
      ]
     },
     "execution_count": 12,
     "metadata": {},
     "output_type": "execute_result"
    }
   ],
   "source": [
    "a[::-1]  # reversed a"
   ]
  },
  {
   "cell_type": "code",
   "execution_count": 18,
   "id": "ce7d82cb-1a92-403b-82fa-bedf129afd73",
   "metadata": {},
   "outputs": [
    {
     "name": "stdout",
     "output_type": "stream",
     "text": [
      "31.622776601683793, 1.0, 31.622776601683793, 3.0, 4.0, 5.0, 6.0, 7.0, 8.0, 9.0, "
     ]
    }
   ],
   "source": [
    "for i in a:\n",
    "    print(i**(1/2), end=', ') # sqrt of each element"
   ]
  },
  {
   "cell_type": "code",
   "execution_count": null,
   "id": "5457f67d-1298-4e09-8a19-03d0c95c0724",
   "metadata": {},
   "outputs": [],
   "source": []
  }
 ],
 "metadata": {
  "kernelspec": {
   "display_name": "Python 3 (ipykernel)",
   "language": "python",
   "name": "python3"
  },
  "language_info": {
   "codemirror_mode": {
    "name": "ipython",
    "version": 3
   },
   "file_extension": ".py",
   "mimetype": "text/x-python",
   "name": "python",
   "nbconvert_exporter": "python",
   "pygments_lexer": "ipython3",
   "version": "3.12.4"
  }
 },
 "nbformat": 4,
 "nbformat_minor": 5
}
