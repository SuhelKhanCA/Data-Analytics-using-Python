{
 "cells": [
  {
   "cell_type": "code",
   "execution_count": null,
   "id": "fbc8ca08-c75a-4366-8192-f0478c98097f",
   "metadata": {},
   "outputs": [],
   "source": []
  }
 ],
 "metadata": {
  "kernelspec": {
   "display_name": "",
   "name": ""
  },
  "language_info": {
   "name": ""
  }
 },
 "nbformat": 4,
 "nbformat_minor": 5
}
